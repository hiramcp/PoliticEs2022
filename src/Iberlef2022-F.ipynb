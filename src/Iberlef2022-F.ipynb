{
 "cells": [
  {
   "cell_type": "code",
   "execution_count": null,
   "id": "dd42e196",
   "metadata": {},
   "outputs": [],
   "source": [
    "using Pkg\n",
    "Pkg.activate(\".\")"
   ]
  },
  {
   "cell_type": "code",
   "execution_count": 2,
   "id": "437f63b4",
   "metadata": {},
   "outputs": [],
   "source": [
    "using SimilaritySearch, SimSearchManifoldLearning, TextSearch, CSV, DataFrames, LinearAlgebra, CategoricalArrays, JLD2, HypertextLiteral"
   ]
  },
  {
   "cell_type": "code",
   "execution_count": 3,
   "id": "30fe51c2",
   "metadata": {},
   "outputs": [
    {
     "data": {
      "text/plain": [
       "text_model (generic function with 2 methods)"
      ]
     },
     "execution_count": 3,
     "metadata": {},
     "output_type": "execute_result"
    }
   ],
   "source": [
    "function text_model(corpus, labels=nothing; config=nothing, mindocs=10)\n",
    "    if config === nothing\n",
    "        config = TextConfig(\n",
    "            group_usr=true,\n",
    "            group_url=true,\n",
    "            del_diac=true,\n",
    "            lc=true,\n",
    "            group_num=true,\n",
    "            nlist=[1, 2],\n",
    "            qlist=[4]\n",
    "        )\n",
    "    end\n",
    "\n",
    "    tok = Tokenizer(config)\n",
    "    model = if labels !== nothing\n",
    "        VectorModel(EntropyWeighting(), BinaryLocalWeighting(), compute_bow_corpus(tok, corpus), labels; mindocs)\n",
    "    else\n",
    "        VectorModel(BinaryGlobalWeighting(), BinaryLocalWeighting(), compute_bow_corpus(tok, corpus); mindocs)\n",
    "    end\n",
    "    vectors = vectorize_corpus(tok, model, corpus)\n",
    "    \n",
    "    (tok=tok, model=model, vectors=vectors)\n",
    "end"
   ]
  },
  {
   "cell_type": "code",
   "execution_count": 4,
   "id": "239ddf80",
   "metadata": {},
   "outputs": [
    {
     "data": {
      "text/plain": [
       "infotxt (generic function with 2 methods)"
      ]
     },
     "execution_count": 4,
     "metadata": {},
     "output_type": "execute_result"
    }
   ],
   "source": [
    "function infotxt(D, i, k=10)\n",
    "    s = []\n",
    "    for j in 1:k\n",
    "        push!(s, @htl \"\"\"<div style=\"margin: 0.5em;\">- $(D.tweet[i][j])</div>\"\"\")\n",
    "    end\n",
    "   \n",
    "    #x: $(D.X[i]), y: $(D.Y[i]),\n",
    "    \n",
    "    @htl \"\"\"\n",
    "    <div>\n",
    "    <h3>metadata</h3>\n",
    "    \n",
    "    gender: <b>$(D.gender[i])</b>,\n",
    "    profession: <b>$(D.profession[i])</b>, \n",
    "    ideology bin: <b>$(D.ideology_binary[i])</b>, \n",
    "    ideology multi: <b>$(D.ideology_multiclass[i])</b>\n",
    "    </div>\n",
    "    <h3>messages</h3>\n",
    "    $s\n",
    "    \"\"\"\n",
    "        \n",
    " end"
   ]
  },
  {
   "cell_type": "code",
   "execution_count": 5,
   "id": "1a3c705c",
   "metadata": {},
   "outputs": [
    {
     "data": {
      "text/plain": [
       "get_data_collection (generic function with 1 method)"
      ]
     },
     "execution_count": 5,
     "metadata": {},
     "output_type": "execute_result"
    }
   ],
   "source": [
    "function get_data_collection(filename)\n",
    "\n",
    "    D = CSV.read(filename, DataFrame)\n",
    "\n",
    "    # Users as collection of messages\n",
    "    E = DataFrame(Column1=Int[], label=String[], gender=String[], profession=String[], ideology_binary=String[], ideology_multiclass=String[], tweet=Vector{String}[])\n",
    "    for g in groupby(D, :label)\n",
    "        push!(E, (first(g.Column1), first(g.label), first(g.gender), first(g.profession), first(g.ideology_binary), first(g.ideology_multiclass), g.tweet))\n",
    "    end\n",
    "    \n",
    "    #@show names(E), size(E)\n",
    "    D = E\n",
    "\n",
    "    return D\n",
    "end"
   ]
  },
  {
   "cell_type": "code",
   "execution_count": 6,
   "id": "0e3772ad",
   "metadata": {},
   "outputs": [
    {
     "data": {
      "text/plain": [
       "get_testdata_collection (generic function with 1 method)"
      ]
     },
     "execution_count": 6,
     "metadata": {},
     "output_type": "execute_result"
    }
   ],
   "source": [
    "function get_testdata_collection(filename)\n",
    "\n",
    "    D = CSV.read(filename, DataFrame)\n",
    "\n",
    "    # Users as collection of messages\n",
    "    E = DataFrame(Column1=Int[], label=String[], tweet=Vector{String}[])\n",
    "    for g in groupby(D, :label)\n",
    "        push!(E, (first(g.Column1), first(g.label), g.tweet))\n",
    "    end\n",
    "    \n",
    "    #@show names(E), size(E)\n",
    "    D = E\n",
    "\n",
    "    return D\n",
    "end"
   ]
  },
  {
   "cell_type": "code",
   "execution_count": 7,
   "id": "fcb40381",
   "metadata": {},
   "outputs": [
    {
     "data": {
      "text/plain": [
       "build_umodel (generic function with 2 methods)"
      ]
     },
     "execution_count": 7,
     "metadata": {},
     "output_type": "execute_result"
    }
   ],
   "source": [
    "function build_umodel(df, ds, class=nothing)\n",
    "    \n",
    "    tmodel = if class === nothing\n",
    "        text_model(ds)\n",
    "    else\n",
    "        text_model(ds, categorical(df[:,  Symbol(class)]))\n",
    "    end\n",
    "    index = ExhaustiveSearch(; db=VectorDatabase(tmodel.vectors), dist=NormalizedCosineDistance())\n",
    "    \n",
    "    umodel = fit(UMAP, index; k=30, n_epochs=100, layout=SpectralLayout(), neg_sample_rate=3, maxoutdim = 3)\n",
    "    \n",
    "    #embedding = umodel.embedding\n",
    "    \n",
    "    (umodel=umodel, text_model=tmodel)\n",
    "\n",
    "end"
   ]
  },
  {
   "cell_type": "code",
   "execution_count": 8,
   "id": "f190157a",
   "metadata": {},
   "outputs": [
    {
     "data": {
      "text/plain": [
       "build_model_projected (generic function with 1 method)"
      ]
     },
     "execution_count": 8,
     "metadata": {},
     "output_type": "execute_result"
    }
   ],
   "source": [
    "function build_model_projected(tmodel, umodel, ds)\n",
    "    vectors = vectorize_corpus(tmodel.tok, tmodel.model, ds)\n",
    "    emb = predict(umodel, vectors)\n",
    "\n",
    "    #return emb\n",
    "    (vectors=vectors, emb=emb)\n",
    "\n",
    "end"
   ]
  },
  {
   "cell_type": "code",
   "execution_count": null,
   "id": "38201516",
   "metadata": {},
   "outputs": [],
   "source": [
    "#Training data\n",
    "finame_train = \"C:\\\\training.csv\"\n",
    "df_train = get_data_collection(finame_train)"
   ]
  },
  {
   "cell_type": "code",
   "execution_count": null,
   "id": "d135b941",
   "metadata": {},
   "outputs": [],
   "source": [
    "#test data\n",
    "finame_test =  \"C:\\\\df_test.csv\"\n",
    "df_test = get_testdata_collection(finame_test)"
   ]
  },
  {
   "cell_type": "code",
   "execution_count": null,
   "id": "ef4df567",
   "metadata": {},
   "outputs": [],
   "source": [
    "#Build umodel based on training data.\n",
    "# \"gender\", \"profession\", \"ideology_binary\", \"ideology_multiclass\"\n",
    "omodel_train = nothing\n",
    "class = :ideology_multiclass\n",
    "omodel_train = build_umodel(df_train, df_train.tweet, class )"
   ]
  },
  {
   "cell_type": "code",
   "execution_count": null,
   "id": "7bc7fb5c",
   "metadata": {},
   "outputs": [],
   "source": [
    "#Project train data into umap train data\n",
    "proj_model = nothing\n",
    "proj_model = build_model_projected(omodel_train.text_model, omodel_train.umodel, df_train.tweet)\n"
   ]
  },
  {
   "cell_type": "code",
   "execution_count": null,
   "id": "43e03434",
   "metadata": {},
   "outputs": [],
   "source": [
    "#Project test data into umap train data\n",
    "proj_model = nothing\n",
    "proj_model = build_model_projected(omodel_train.text_model, omodel_train.umodel,df_test.tweet)"
   ]
  },
  {
   "cell_type": "code",
   "execution_count": null,
   "id": "7785bf3c",
   "metadata": {},
   "outputs": [],
   "source": [
    "#Subset just with classes\n",
    "df_train_c = df_train[:, [:gender, :profession, :ideology_binary, :ideology_multiclass]]"
   ]
  },
  {
   "cell_type": "code",
   "execution_count": null,
   "id": "ff06b0a7",
   "metadata": {},
   "outputs": [],
   "source": [
    "df_test_c = df_test[:,[:Column1, :label]]"
   ]
  },
  {
   "cell_type": "code",
   "execution_count": null,
   "id": "de46837c",
   "metadata": {},
   "outputs": [],
   "source": [
    "emb_train = hcat(emb_train_gen', emb_train_prof', emb_train_ideob', emb_train_ideom')\n",
    "emb_test = hcat(emb_test_gen', emb_test_prof', emb_test_ideob', emb_test_ideom')"
   ]
  },
  {
   "cell_type": "code",
   "execution_count": 21,
   "id": "100a5271",
   "metadata": {},
   "outputs": [],
   "source": [
    "using NPZ\n",
    "npzwrite(\"C:\\\\data\\\\emb_train.npy\", emb_train)\n",
    "npzwrite(\"C:\\\\data\\\\emb_test.npy\", emb_test)"
   ]
  },
  {
   "cell_type": "code",
   "execution_count": null,
   "id": "495900ae",
   "metadata": {},
   "outputs": [],
   "source": [
    "CSV.write(\"C:\\\\data\\\\df_class_train.csv\",df_train_c)\n",
    "CSV.write(\"C:\\\\data\\\\df_test.csv\",df_test)"
   ]
  },
  {
   "cell_type": "markdown",
   "id": "323ee20e",
   "metadata": {},
   "source": [
    "### Charts"
   ]
  },
  {
   "cell_type": "code",
   "execution_count": 28,
   "id": "033b9baf",
   "metadata": {},
   "outputs": [
    {
     "data": {
      "application/vnd.webio.node+json": {
       "children": [],
       "instanceArgs": {
        "namespace": "html",
        "tag": "div"
       },
       "nodeType": "DOM",
       "props": {},
       "type": "node"
      },
      "text/html": [
       "<div style=\"padding: 1em; background-color: #f8d6da; border: 1px solid #f5c6cb; font-weight: bold;\">\n",
       "<p>The WebIO Jupyter extension was not detected. See the\n",
       "<a href=\"https://juliagizmos.github.io/WebIO.jl/latest/providers/ijulia/\" target=\"_blank\">\n",
       "    WebIO Jupyter integration documentation\n",
       "</a>\n",
       "for more information.\n",
       "</div>\n"
      ],
      "text/plain": [
       "WebIO._IJuliaInit()"
      ]
     },
     "metadata": {
      "application/vnd.webio.node+json": {
       "kernelId": "1dae8546-76d5-4b36-bfa8-ce2490c012f2"
      }
     },
     "output_type": "display_data"
    }
   ],
   "source": [
    "using WebIO\n",
    "using PlotlyJS"
   ]
  },
  {
   "cell_type": "code",
   "execution_count": null,
   "id": "e9a12cf5",
   "metadata": {},
   "outputs": [],
   "source": [
    "D=df_test"
   ]
  },
  {
   "cell_type": "code",
   "execution_count": null,
   "id": "3ef29974",
   "metadata": {},
   "outputs": [],
   "source": [
    "#Two dimensions\n",
    "\n",
    "D[:, :X] = proj_model.emb[1, :]\n",
    "D[:, :Y] = proj_model.emb[2, :]\n",
    "\n",
    "\n",
    "label_colors = class\n",
    "L = categorical(D[:, label_colors])\n",
    "\n",
    "P = plot(\n",
    "    D, x=:X, y=:Y, mode=\"markers\", color=label_colors\n",
    "    #,Layout(title=\"$label_colors\")\n",
    "    ,marker=attr(size=6, line=attr(width=0.5, color=\"DarkSlateGrey\"))\n",
    "    ,dpi=100\n",
    ")\n",
    "\n",
    "on(P[\"click\"]) do data\n",
    "    IJulia.clear_output()\n",
    "    display(P)\n",
    "    points = get(data, \"points\", ())\n",
    "    \n",
    "    for p in points\n",
    "        i = p[\"pointIndex\"] + 1\n",
    "        k = 100\n",
    "        res = KnnResult(k)\n",
    "        tokens = collect(keys(proj_model.vectors[i]))\n",
    "        weights = collect(values(proj_model.vectors[i]))\n",
    "        \n",
    "        for (j, w) in enumerate(weights)\n",
    "            push!(res, j, -w)\n",
    "        end\n",
    "        \n",
    "        S = []\n",
    "        for (id, w) in res\n",
    "            w = -w\n",
    "            token = decode(omodel_train.text_model.tok, tokens[id])\n",
    "            token = replace(token, r\"^\\t(.)\" => s\"@\\1~\", r\"\\s\" => \"~\")\n",
    "            push!(S, @htl \"\"\"<span style=\"margin: 0.5em;\"><b>'$(token)'</b>:&nbsp;$(round(w, digits=3))</span> \"\"\")\n",
    "        end\n",
    "        \n",
    "        display(@htl \"\"\"\n",
    "        <h3>most characteristic $k tokens from $(length(tokens)) available (vector $i)</h3>\n",
    "        $S\n",
    "        \"\"\")\n",
    "        display(infotxt(D, i, 30))\n",
    "    end\n",
    "end\n",
    "\n",
    "P\n",
    "savefig(P,\"C:\\\\Test_ideom_2D.pdf\")"
   ]
  },
  {
   "cell_type": "code",
   "execution_count": null,
   "id": "3058a07f",
   "metadata": {},
   "outputs": [],
   "source": []
  },
  {
   "cell_type": "code",
   "execution_count": null,
   "id": "4cb5132f",
   "metadata": {},
   "outputs": [],
   "source": []
  }
 ],
 "metadata": {
  "@webio": {
   "lastCommId": "5fa0da90d5a441ca9686a437b87f9f44",
   "lastKernelId": "1dae8546-76d5-4b36-bfa8-ce2490c012f2"
  },
  "kernelspec": {
   "display_name": "Julia 1.7.2",
   "language": "julia",
   "name": "julia-1.7"
  },
  "language_info": {
   "file_extension": ".jl",
   "mimetype": "application/julia",
   "name": "julia",
   "version": "1.7.2"
  }
 },
 "nbformat": 4,
 "nbformat_minor": 5
}
